{
 "cells": [
  {
   "cell_type": "code",
   "execution_count": null,
   "id": "1f851b65",
   "metadata": {},
   "outputs": [],
   "source": [
    "import uuid\n",
    "import random"
   ]
  },
  {
   "cell_type": "code",
   "execution_count": null,
   "id": "3b361437",
   "metadata": {},
   "outputs": [],
   "source": [
    "class Dao:\n",
    "    def __init__(\n",
    "            self,\n",
    "            members: list\n",
    "        ) -> None:\n",
    "        \n",
    "        self.unique_identifier = str(uuid.uuid4())\n",
    "        self.owners = []\n",
    "        self.current_proposal = None\n",
    "        self.rejected_proposals = []\n",
    "        self.accepted_proposals = []\n",
    "        self.past_proposals = []\n",
    "        self.members = members\n",
    "        self.time = 0\n",
    "        self.treasury = 0\n",
    "\n",
    "    def get_current_proposal(\n",
    "            self\n",
    "        ) -> object:\n",
    "\n",
    "        return self.current_proposal\n",
    "\n",
    "    def update(\n",
    "            self, \n",
    "            time: int\n",
    "        ) -> int:\n",
    "\n",
    "        self.time = time\n",
    "\n",
    "    def __repr__(\n",
    "            self\n",
    "        ) -> str:\n",
    "        \n",
    "        return f'''\n",
    "                Dao: {self.unique_identifier}, \n",
    "                owners: {self.owners}, \n",
    "                members: {self.members, },\n",
    "                current_proposal: {self.current_proposal},\n",
    "                rejected_proposals: {self.rejected_proposals},\n",
    "                accepted_proposals: {self.accepted_proposals},\n",
    "                past_proposals: {self.past_proposals},\n",
    "                time: {self.time},\n",
    "                treasury: {self.treasury}\n",
    "            '''"
   ]
  },
  {
   "cell_type": "code",
   "execution_count": null,
   "id": "7d089d01",
   "metadata": {},
   "outputs": [],
   "source": [
    "class Agent:\n",
    "    def __init__(self):\n",
    "        self.wallet = Wallet(random.randint(1, 100))"
   ]
  },
  {
   "cell_type": "code",
   "execution_count": null,
   "id": "6d8914d6",
   "metadata": {},
   "outputs": [],
   "source": [
    "class Wallet:\n",
    "    def __init__(self, token):\n",
    "        self.token = token"
   ]
  },
  {
   "cell_type": "code",
   "execution_count": null,
   "id": "7ca37f7c",
   "metadata": {},
   "outputs": [],
   "source": [
    "dao = Dao(members=[Agent()])"
   ]
  },
  {
   "cell_type": "code",
   "execution_count": null,
   "id": "413baf72",
   "metadata": {},
   "outputs": [],
   "source": [
    "class Gnssmartcontract:\n",
    "    def __init__(self, smart_contracts: list, dao: object):\n",
    "        self.smart_contracts = smart_contracts\n",
    "        self.dao = dao\n",
    "        \n",
    "    def execute(self):\n",
    "        \n",
    "        for smart_contract in self.smart_contracts:\n",
    "            smart_contract.add_dao(self.dao)\n",
    "            smart_contract.set_state(self.dao)\n",
    "            value = smart_contract.run()\n",
    "            \n",
    "            print(value)\n",
    "            \n",
    "            if value == False:\n",
    "                dao = smart_contract.get_state()\n",
    "                print(dao)\n",
    "            elif value == True:\n",
    "                dao = smart_contract.get_state()\n",
    "                print(dao)"
   ]
  },
  {
   "cell_type": "code",
   "execution_count": null,
   "id": "21873b79",
   "metadata": {},
   "outputs": [],
   "source": [
    "class Smartcontractone:\n",
    "    def __init__(self):\n",
    "        self.unique_identifier = str(uuid.uuid4())\n",
    "        self.dao = None\n",
    "        self.current_dao_state = None\n",
    "        \n",
    "    def set_state(self, dao):\n",
    "        self.current_dao_state = dao\n",
    "        \n",
    "    def get_state(self):\n",
    "        return self.current_dao_state\n",
    "        \n",
    "    def add_dao(self, dao):\n",
    "        self.dao = dao\n",
    "    \n",
    "    def run(self):        \n",
    "        if len(self.dao.owners) < 0:\n",
    "            return False\n",
    "        return True"
   ]
  },
  {
   "cell_type": "code",
   "execution_count": null,
   "id": "e79d48e1",
   "metadata": {},
   "outputs": [],
   "source": [
    "class Smartcontracttwo:\n",
    "    def __init__(self):\n",
    "        self.unique_identifier = str(uuid.uuid4())\n",
    "        self.dao = None\n",
    "        self.current_dao_state = None\n",
    "        \n",
    "    def set_state(self, dao):\n",
    "        self.current_dao_state = dao\n",
    "        \n",
    "    def get_state(self):\n",
    "        return self.current_dao_state\n",
    "        \n",
    "    def add_dao(self, dao):\n",
    "        self.dao = dao\n",
    "        \n",
    "    def run(self):\n",
    "        \n",
    "        check = [False if member.wallet.token < 10 else True for member in self.dao.members]\n",
    "        \n",
    "        if False in check:\n",
    "            return False\n",
    "        else:\n",
    "            return True"
   ]
  },
  {
   "cell_type": "code",
   "execution_count": null,
   "id": "1209f447",
   "metadata": {},
   "outputs": [],
   "source": [
    "class Smartcontractthree:\n",
    "    def __init__(self):\n",
    "        self.unique_identifier = str(uuid.uuid4())\n",
    "        self.dao = None\n",
    "        self.current_dao_state = None\n",
    "        \n",
    "    def set_state(self, dao):\n",
    "        self.current_dao_state = dao\n",
    "        \n",
    "    def get_state(self):\n",
    "        return self.current_dao_state\n",
    "        \n",
    "    def add_dao(self, dao):\n",
    "        self.dao = dao\n",
    "        \n",
    "    def run(self):\n",
    "        if self.dao.treasury < 10:\n",
    "            return False\n",
    "        return True"
   ]
  },
  {
   "cell_type": "code",
   "execution_count": null,
   "id": "fd1ee0df",
   "metadata": {},
   "outputs": [],
   "source": [
    "genisis = Gnssmartcontract(smart_contracts = [Smartcontractone(), Smartcontracttwo(), Smartcontractthree()], dao=dao)"
   ]
  },
  {
   "cell_type": "code",
   "execution_count": null,
   "id": "2d124f9d",
   "metadata": {},
   "outputs": [],
   "source": [
    "genisis.execute()"
   ]
  }
 ],
 "metadata": {
  "kernelspec": {
   "display_name": "Python 3 (ipykernel)",
   "language": "python",
   "name": "python3"
  },
  "language_info": {
   "codemirror_mode": {
    "name": "ipython",
    "version": 3
   },
   "file_extension": ".py",
   "mimetype": "text/x-python",
   "name": "python",
   "nbconvert_exporter": "python",
   "pygments_lexer": "ipython3",
   "version": "3.10.8"
  }
 },
 "nbformat": 4,
 "nbformat_minor": 5
}
